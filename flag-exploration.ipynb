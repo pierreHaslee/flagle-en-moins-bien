{
 "cells": [
  {
   "cell_type": "markdown",
   "metadata": {},
   "source": [
    "# FLAG EXPLORATION"
   ]
  },
  {
   "cell_type": "code",
   "execution_count": 141,
   "metadata": {},
   "outputs": [],
   "source": [
    "import pandas as pd\n",
    "import numpy as np\n",
    "import PIL\n",
    "import PIL.ImageShow\n",
    "import PIL.Image\n",
    "import os\n",
    "import matplotlib"
   ]
  },
  {
   "cell_type": "markdown",
   "metadata": {},
   "source": [
    "### LOADING ISO NAMES FILE"
   ]
  },
  {
   "cell_type": "code",
   "execution_count": 3,
   "metadata": {},
   "outputs": [
    {
     "name": "stdout",
     "output_type": "stream",
     "text": [
      "Name    Armenia\n",
      "Code         AM\n",
      "Name: 10, dtype: object\n"
     ]
    }
   ],
   "source": [
    "iso_names = pd.read_csv(os.path.join('data', 'country_iso2_names.csv'))\n",
    "\n",
    "print(iso_names.iloc[10])"
   ]
  },
  {
   "cell_type": "markdown",
   "metadata": {},
   "source": [
    "### LOADING FLAG"
   ]
  },
  {
   "cell_type": "code",
   "execution_count": 229,
   "metadata": {},
   "outputs": [],
   "source": [
    "def get_png_name(name, iso_names):\n",
    "    return os.path.join('data', 'w2560', '{}.png'.format(iso_names.loc[iso_names.Name == name].Code.item().lower()))\n",
    "\n",
    "def resize_image(img: PIL.Image.Image):\n",
    "\n",
    "    classic_size = [2560, 1707]\n",
    "\n",
    "    img_size = img.size\n",
    "\n",
    "    if img_size[1] > classic_size[1]:\n",
    "        div_factor = img_size[1] / classic_size[1]\n",
    "        new_x = int(np.round(img_size[0] / div_factor))\n",
    "        left = (classic_size[0] - new_x) // 2\n",
    "\n",
    "        resized_img = PIL.Image.new('RGBA', classic_size, (0, 0, 0, 0))\n",
    "        resized_img.paste(img.resize((new_x, classic_size[1])), (left, 0))\n",
    "\n",
    "    elif img_size[1] < classic_size[1]:\n",
    "        top = (classic_size[1] - img_size[1]) // 2\n",
    "\n",
    "        resized_img = PIL.Image.new('RGBA', classic_size, (0, 0, 0, 0))\n",
    "        resized_img.paste(img, (0, top))\n",
    "    \n",
    "    else:\n",
    "        return img.convert(mode='RGBA')\n",
    "\n",
    "    return resized_img\n",
    "\n",
    "def display_image(img_path):\n",
    "\n",
    "    image = PIL.Image.open(img_path)\n",
    "    resized_img = resize_image(image)\n",
    "\n",
    "    PIL.ImageShow.show(resized_img)\n",
    "\n",
    "def get_flag_img(country_name):\n",
    "    image = PIL.Image.open(get_png_name(country_name, iso_names))\n",
    "    resized_img = resize_image(image)\n",
    "    return resized_img\n",
    "\n",
    "def display_country_flag(country_name):\n",
    "    display_image(get_png_name(country_name, iso_names))"
   ]
  },
  {
   "cell_type": "code",
   "execution_count": 36,
   "metadata": {},
   "outputs": [],
   "source": [
    "display_country_flag('Nepal')"
   ]
  },
  {
   "cell_type": "code",
   "execution_count": 109,
   "metadata": {},
   "outputs": [],
   "source": [
    "img_1 = get_flag_img('France')\n",
    "img_2 = get_flag_img('Italy')\n",
    "flag_1 = np.array(img_1)\n",
    "flag_2 = np.array(img_2)"
   ]
  },
  {
   "cell_type": "code",
   "execution_count": 222,
   "metadata": {},
   "outputs": [],
   "source": [
    "def get_processed_flag(flag):\n",
    "    hsv_flag = matplotlib.colors.rgb_to_hsv(flag[:,:,:3] / 255)\n",
    "    processed_flag = np.zeros(list(hsv_flag.shape[:2])+[3], dtype=np.uint8)\n",
    "\n",
    "    (h,s,v) = (0,1,2)    \n",
    "\n",
    "    # Hue\n",
    "    processed_flag[:,:,h] = hsv_flag[:,:,h] * 10\n",
    "\n",
    "    # Saturation\n",
    "    processed_flag[:,:,s] = hsv_flag[:,:,s] * 0\n",
    "\n",
    "    # Value\n",
    "    processed_flag[:,:,v] = hsv_flag[:,:,v] * 1\n",
    "\n",
    "\n",
    "\n",
    "    np.round(processed_flag)\n",
    "    return processed_flag\n",
    "    \n",
    "\n",
    "def get_flag_mask(flag_1, flag_2):\n",
    "\n",
    "    processed_flag_1 = get_processed_flag(flag_1)\n",
    "    processed_flag_2 = get_processed_flag(flag_2)\n",
    "\n",
    "    classic_size = [1707, 2560]\n",
    "    flag_mask = np.where((processed_flag_1 == processed_flag_2).all(axis=2), np.ones(classic_size, dtype=np.uint8), np.zeros(classic_size, dtype=np.uint8))\n",
    "    return flag_mask"
   ]
  },
  {
   "cell_type": "code",
   "execution_count": 162,
   "metadata": {},
   "outputs": [
    {
     "name": "stdout",
     "output_type": "stream",
     "text": [
      "0.6617144807603607\n",
      "0.6190690729966025\n"
     ]
    }
   ],
   "source": [
    "flag_mask = get_flag_mask(flag_1, flag_2)"
   ]
  },
  {
   "cell_type": "code",
   "execution_count": 136,
   "metadata": {},
   "outputs": [
    {
     "name": "stdout",
     "output_type": "stream",
     "text": [
      "(1707, 2560, 4)\n",
      "(1707, 2560)\n"
     ]
    }
   ],
   "source": [
    "print(flag_1.shape)\n",
    "classic_size = [1707, 2560]\n",
    "flag_mask = np.where((flag_1 == flag_2).all(axis=2), np.ones(classic_size, dtype=np.uint8), np.zeros(classic_size, dtype=np.uint8))\n",
    "print(flag_mask.shape)"
   ]
  },
  {
   "cell_type": "code",
   "execution_count": 137,
   "metadata": {},
   "outputs": [
    {
     "name": "stdout",
     "output_type": "stream",
     "text": [
      "(1707, 2560, 3)\n"
     ]
    }
   ],
   "source": [
    "flag_mask_rgb = np.stack([flag_mask*255]*3, axis=2)\n",
    "print(flag_mask_rgb.shape)"
   ]
  },
  {
   "cell_type": "code",
   "execution_count": 138,
   "metadata": {},
   "outputs": [],
   "source": [
    "im = PIL.Image.fromarray(flag_mask_rgb, 'RGB')\n",
    "im.show()"
   ]
  },
  {
   "cell_type": "code",
   "execution_count": 215,
   "metadata": {},
   "outputs": [],
   "source": [
    "def get_union_flag(country_name_true, country_name_guess):\n",
    "\n",
    "    flag_true = np.array(get_flag_img(country_name_true))\n",
    "    flag_guess = np.array(get_flag_img(country_name_guess))\n",
    "\n",
    "    flag_mask = get_flag_mask(flag_true, flag_guess)\n",
    "    flag_mask_rgb = np.stack([flag_mask]*4, axis=2)\n",
    "\n",
    "    union_flag = np.where(flag_mask_rgb==1, flag_true, np.zeros_like(flag_true))\n",
    "    return union_flag\n",
    "\n",
    "def combine_union_flags(union_original, union_to_combine):\n",
    "    new_union = union_original.copy()\n",
    "    new_union[union_to_combine[:,:,3] != 0] = union_to_combine[union_to_combine[:,:,3] != 0]\n",
    "    return new_union\n",
    "\n",
    "def show_union_flag(union_flag):\n",
    "    im = PIL.Image.fromarray(union_flag, 'RGBA')\n",
    "    im.show()"
   ]
  },
  {
   "cell_type": "code",
   "execution_count": 234,
   "metadata": {},
   "outputs": [],
   "source": [
    "ir_fr_union_flag = get_union_flag('Ireland', 'France')\n",
    "show_union_flag(ir_fr_union_flag)"
   ]
  },
  {
   "cell_type": "code",
   "execution_count": 235,
   "metadata": {},
   "outputs": [],
   "source": [
    "ir_it_union_flag = get_union_flag('Ireland', 'Italy')\n",
    "combined_flag = combine_union_flags(ir_fr_union_flag, ir_it_union_flag)\n",
    "show_union_flag(combined_flag)"
   ]
  },
  {
   "cell_type": "code",
   "execution_count": 232,
   "metadata": {},
   "outputs": [],
   "source": [
    "ir_sl_union_flag = get_union_flag('Ireland', 'Sri Lanka')\n",
    "combined_flag = combine_union_flags(combined_flag, ir_sl_union_flag)\n",
    "show_union_flag(combined_flag)"
   ]
  },
  {
   "cell_type": "code",
   "execution_count": null,
   "metadata": {},
   "outputs": [],
   "source": []
  }
 ],
 "metadata": {
  "kernelspec": {
   "display_name": "flagle_env",
   "language": "python",
   "name": "python3"
  },
  "language_info": {
   "codemirror_mode": {
    "name": "ipython",
    "version": 3
   },
   "file_extension": ".py",
   "mimetype": "text/x-python",
   "name": "python",
   "nbconvert_exporter": "python",
   "pygments_lexer": "ipython3",
   "version": "3.12.5"
  }
 },
 "nbformat": 4,
 "nbformat_minor": 2
}
